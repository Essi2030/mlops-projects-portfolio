{
 "cells": [
  {
   "cell_type": "markdown",
   "id": "5c035a62",
   "metadata": {},
   "source": [
    "# 🎓 Train Model – Iris Classifier for CI/CD Pipeline\n",
    "This notebook trains a simple Iris classifier using scikit-learn and saves the model for deployment."
   ]
  },
  {
   "cell_type": "markdown",
   "id": "792470c4",
   "metadata": {},
   "source": [
    "## 🔧 Step 1: Import libraries and load dataset"
   ]
  },
  {
   "cell_type": "code",
   "execution_count": null,
   "id": "4cfd2a2f",
   "metadata": {},
   "outputs": [],
   "source": [
    "\n",
    "from sklearn.datasets import load_iris\n",
    "from sklearn.model_selection import train_test_split\n",
    "from sklearn.ensemble import RandomForestClassifier\n",
    "from sklearn.metrics import accuracy_score\n",
    "import joblib\n",
    "import pandas as pd\n"
   ]
  },
  {
   "cell_type": "markdown",
   "id": "91339202",
   "metadata": {},
   "source": [
    "## 📦 Step 2: Load and preprocess the data"
   ]
  },
  {
   "cell_type": "code",
   "execution_count": null,
   "id": "1287eb9e",
   "metadata": {},
   "outputs": [],
   "source": [
    "\n",
    "# Load iris dataset\n",
    "iris = load_iris()\n",
    "X = iris.data\n",
    "y = iris.target\n",
    "target_names = iris.target_names\n",
    "\n",
    "# Split\n",
    "X_train, X_test, y_train, y_test = train_test_split(X, y, test_size=0.2, random_state=42)\n"
   ]
  },
  {
   "cell_type": "markdown",
   "id": "eb1b3d94",
   "metadata": {},
   "source": [
    "## 🧠 Step 3: Train the model"
   ]
  },
  {
   "cell_type": "code",
   "execution_count": null,
   "id": "26ad504a",
   "metadata": {},
   "outputs": [],
   "source": [
    "\n",
    "model = RandomForestClassifier(n_estimators=100, random_state=42)\n",
    "model.fit(X_train, y_train)\n"
   ]
  },
  {
   "cell_type": "markdown",
   "id": "1c02eec7",
   "metadata": {},
   "source": [
    "## 📈 Step 4: Evaluate the model"
   ]
  },
  {
   "cell_type": "code",
   "execution_count": null,
   "id": "7298d455",
   "metadata": {},
   "outputs": [],
   "source": [
    "\n",
    "y_pred = model.predict(X_test)\n",
    "acc = accuracy_score(y_test, y_pred)\n",
    "print(f\"✅ Accuracy: {acc:.2f}\")\n"
   ]
  },
  {
   "cell_type": "markdown",
   "id": "e6d58263",
   "metadata": {},
   "source": [
    "## 💾 Step 5: Save the model and class labels"
   ]
  },
  {
   "cell_type": "code",
   "execution_count": null,
   "id": "c653dcb9",
   "metadata": {},
   "outputs": [],
   "source": [
    "\n",
    "joblib.dump(model, \"iris_model.joblib\")\n",
    "\n",
    "# Save class names\n",
    "with open(\"class_names.txt\", \"w\") as f:\n",
    "    for name in target_names:\n",
    "        f.write(name + \"\\n\")\n",
    "\n",
    "print(\"✅ Model and class names saved.\")\n"
   ]
  }
 ],
 "metadata": {},
 "nbformat": 4,
 "nbformat_minor": 5
}