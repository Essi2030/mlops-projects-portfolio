{
 "cells": [
  {
   "cell_type": "markdown",
   "id": "4a88049b",
   "metadata": {},
   "source": [
    "# 📊 Crypto Data Collection – Bitcoin/ETH Historical Prices\n",
    "This notebook collects historical cryptocurrency data using the `yfinance` library."
   ]
  },
  {
   "cell_type": "markdown",
   "id": "3be5c7e7",
   "metadata": {},
   "source": [
    "## 🔧 Step 1: Install and import required libraries"
   ]
  },
  {
   "cell_type": "code",
   "execution_count": null,
   "id": "9a60c10e",
   "metadata": {},
   "outputs": [],
   "source": [
    "!pip install yfinance pandas matplotlib --quiet"
   ]
  },
  {
   "cell_type": "code",
   "execution_count": null,
   "id": "4a0e7e25",
   "metadata": {},
   "outputs": [],
   "source": [
    "\n",
    "import yfinance as yf\n",
    "import pandas as pd\n",
    "import matplotlib.pyplot as plt\n"
   ]
  },
  {
   "cell_type": "markdown",
   "id": "dedc55e8",
   "metadata": {},
   "source": [
    "## 💱 Step 2: Download BTC and ETH historical data"
   ]
  },
  {
   "cell_type": "code",
   "execution_count": null,
   "id": "af9a3eeb",
   "metadata": {},
   "outputs": [],
   "source": [
    "\n",
    "# Download historical prices\n",
    "btc = yf.download('BTC-USD', start='2021-01-01', end='2024-01-01')\n",
    "eth = yf.download('ETH-USD', start='2021-01-01', end='2024-01-01')\n",
    "\n",
    "# Save to CSV\n",
    "btc.to_csv('btc_usd.csv')\n",
    "eth.to_csv('eth_usd.csv')\n",
    "\n",
    "btc.head()\n"
   ]
  },
  {
   "cell_type": "markdown",
   "id": "57854826",
   "metadata": {},
   "source": [
    "## 📈 Step 3: Visualize the prices"
   ]
  },
  {
   "cell_type": "code",
   "execution_count": null,
   "id": "53f14532",
   "metadata": {},
   "outputs": [],
   "source": [
    "\n",
    "plt.figure(figsize=(12, 5))\n",
    "plt.plot(btc['Close'], label='BTC-USD')\n",
    "plt.plot(eth['Close'], label='ETH-USD')\n",
    "plt.title('BTC and ETH Close Prices')\n",
    "plt.xlabel('Date')\n",
    "plt.ylabel('Price (USD)')\n",
    "plt.legend()\n",
    "plt.grid(True)\n",
    "plt.show()\n"
   ]
  },
  {
   "cell_type": "markdown",
   "id": "12b2339b",
   "metadata": {},
   "source": [
    "🚀 Data collection complete! You're ready for modeling."
   ]
  }
 ],
 "metadata": {},
 "nbformat": 4,
 "nbformat_minor": 5
}