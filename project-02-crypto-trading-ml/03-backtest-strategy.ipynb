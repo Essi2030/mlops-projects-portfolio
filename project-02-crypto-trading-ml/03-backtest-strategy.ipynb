{
 "cells": [
  {
   "cell_type": "markdown",
   "id": "273137d8",
   "metadata": {},
   "source": [
    "# 📉 Backtest Trading Strategy – Crypto ML\n",
    "Generate buy/sell signals using ML predictions and evaluate strategy performance."
   ]
  },
  {
   "cell_type": "markdown",
   "id": "be5ed7ea",
   "metadata": {},
   "source": [
    "## 📦 Step 1: Load data and predictions"
   ]
  },
  {
   "cell_type": "code",
   "execution_count": null,
   "id": "d1aa4d5a",
   "metadata": {},
   "outputs": [],
   "source": [
    "\n",
    "import pandas as pd\n",
    "import matplotlib.pyplot as plt\n",
    "import numpy as np\n",
    "\n",
    "# Load dataset again\n",
    "df = pd.read_csv(\"btc_usd.csv\", parse_dates=[\"Date\"])\n",
    "df.set_index(\"Date\", inplace=True)\n",
    "\n",
    "# Recreate lag features\n",
    "df[\"lag_1\"] = df[\"Close\"].shift(1)\n",
    "df[\"lag_2\"] = df[\"Close\"].shift(2)\n",
    "df[\"lag_3\"] = df[\"Close\"].shift(3)\n",
    "df[\"target\"] = df[\"Close\"].shift(-1)\n",
    "df.dropna(inplace=True)\n",
    "\n",
    "# Re-train simple XGBoost model for this notebook\n",
    "from sklearn.model_selection import train_test_split\n",
    "from xgboost import XGBRegressor\n",
    "\n",
    "X = df[[\"lag_1\", \"lag_2\", \"lag_3\"]]\n",
    "y = df[\"target\"]\n",
    "X_train, X_test, y_train, y_test = train_test_split(X, y, shuffle=False, test_size=0.2)\n",
    "\n",
    "model = XGBRegressor()\n",
    "model.fit(X_train, y_train)\n",
    "\n",
    "df_test = df.iloc[-len(X_test):].copy()\n",
    "df_test[\"pred\"] = model.predict(X_test)\n"
   ]
  },
  {
   "cell_type": "markdown",
   "id": "d8703e4e",
   "metadata": {},
   "source": [
    "## 📈 Step 2: Define signal generation logic"
   ]
  },
  {
   "cell_type": "code",
   "execution_count": null,
   "id": "8ee972ce",
   "metadata": {},
   "outputs": [],
   "source": [
    "\n",
    "# Simple signal logic: if tomorrow's predicted price > today's close → BUY\n",
    "df_test[\"signal\"] = np.where(df_test[\"pred\"] > df_test[\"Close\"], 1, -1)\n",
    "df_test[\"daily_return\"] = df_test[\"Close\"].pct_change().fillna(0)\n",
    "df_test[\"strategy_return\"] = df_test[\"signal\"].shift(1) * df_test[\"daily_return\"]\n"
   ]
  },
  {
   "cell_type": "markdown",
   "id": "377fbecd",
   "metadata": {},
   "source": [
    "## 📊 Step 3: Visualize performance"
   ]
  },
  {
   "cell_type": "code",
   "execution_count": null,
   "id": "d223db7b",
   "metadata": {},
   "outputs": [],
   "source": [
    "\n",
    "(1 + df_test[\"strategy_return\"]).cumprod().plot(label=\"Strategy\", figsize=(12,5))\n",
    "(1 + df_test[\"daily_return\"]).cumprod().plot(label=\"Market\")\n",
    "plt.title(\"Cumulative Returns – Strategy vs Market\")\n",
    "plt.legend()\n",
    "plt.grid(True)\n",
    "plt.show()\n"
   ]
  },
  {
   "cell_type": "markdown",
   "id": "2f896243",
   "metadata": {},
   "source": [
    "🚀 Backtesting complete! You can now optimize and evaluate more complex strategies."
   ]
  }
 ],
 "metadata": {},
 "nbformat": 4,
 "nbformat_minor": 5
}