{
 "cells": [
  {
   "cell_type": "markdown",
   "id": "df54ff0d",
   "metadata": {},
   "source": [
    "# 🤖 Model Training – Crypto Price Prediction\n",
    "Train a model to predict future crypto prices using XGBoost and time-series features."
   ]
  },
  {
   "cell_type": "markdown",
   "id": "e6faeb76",
   "metadata": {},
   "source": [
    "## 🔧 Step 1: Install and import required libraries"
   ]
  },
  {
   "cell_type": "code",
   "execution_count": null,
   "id": "868b4e46",
   "metadata": {},
   "outputs": [],
   "source": [
    "!pip install xgboost pandas scikit-learn matplotlib --quiet"
   ]
  },
  {
   "cell_type": "code",
   "execution_count": null,
   "id": "594c3110",
   "metadata": {},
   "outputs": [],
   "source": [
    "\n",
    "import pandas as pd\n",
    "import numpy as np\n",
    "import xgboost as xgb\n",
    "from sklearn.model_selection import train_test_split\n",
    "from sklearn.metrics import mean_squared_error, r2_score\n",
    "import matplotlib.pyplot as plt\n"
   ]
  },
  {
   "cell_type": "markdown",
   "id": "5ec5cf20",
   "metadata": {},
   "source": [
    "## 📦 Step 2: Load and preprocess the data"
   ]
  },
  {
   "cell_type": "code",
   "execution_count": null,
   "id": "f2a6aad4",
   "metadata": {},
   "outputs": [],
   "source": [
    "\n",
    "# Load BTC data\n",
    "df = pd.read_csv(\"btc_usd.csv\", parse_dates=[\"Date\"])\n",
    "df.set_index(\"Date\", inplace=True)\n",
    "\n",
    "# Create lag features\n",
    "df[\"lag_1\"] = df[\"Close\"].shift(1)\n",
    "df[\"lag_2\"] = df[\"Close\"].shift(2)\n",
    "df[\"lag_3\"] = df[\"Close\"].shift(3)\n",
    "df[\"target\"] = df[\"Close\"].shift(-1)\n",
    "\n",
    "# Drop NA\n",
    "df.dropna(inplace=True)\n",
    "df.head()\n"
   ]
  },
  {
   "cell_type": "markdown",
   "id": "84a5e19f",
   "metadata": {},
   "source": [
    "## 🧠 Step 3: Train/Test Split and Model Training"
   ]
  },
  {
   "cell_type": "code",
   "execution_count": null,
   "id": "fbe9897b",
   "metadata": {},
   "outputs": [],
   "source": [
    "\n",
    "X = df[[\"lag_1\", \"lag_2\", \"lag_3\"]]\n",
    "y = df[\"target\"]\n",
    "\n",
    "X_train, X_test, y_train, y_test = train_test_split(X, y, shuffle=False, test_size=0.2)\n",
    "\n",
    "model = xgb.XGBRegressor(n_estimators=100, learning_rate=0.1)\n",
    "model.fit(X_train, y_train)\n"
   ]
  },
  {
   "cell_type": "markdown",
   "id": "0f522267",
   "metadata": {},
   "source": [
    "## 📈 Step 4: Evaluate the model"
   ]
  },
  {
   "cell_type": "code",
   "execution_count": null,
   "id": "97f98451",
   "metadata": {},
   "outputs": [],
   "source": [
    "\n",
    "y_pred = model.predict(X_test)\n",
    "\n",
    "print(\"MSE:\", mean_squared_error(y_test, y_pred))\n",
    "print(\"R²:\", r2_score(y_test, y_pred))\n",
    "\n",
    "plt.figure(figsize=(12, 5))\n",
    "plt.plot(y_test.values, label=\"Actual\")\n",
    "plt.plot(y_pred, label=\"Predicted\")\n",
    "plt.title(\"BTC Price Prediction – XGBoost\")\n",
    "plt.legend()\n",
    "plt.grid(True)\n",
    "plt.show()\n"
   ]
  },
  {
   "cell_type": "markdown",
   "id": "4210fd90",
   "metadata": {},
   "source": [
    "🚀 Model trained and evaluated! You're ready to backtest trading strategies."
   ]
  }
 ],
 "metadata": {},
 "nbformat": 4,
 "nbformat_minor": 5
}