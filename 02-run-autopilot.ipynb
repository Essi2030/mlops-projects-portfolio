{
 "cells": [
  {
   "cell_type": "markdown",
   "id": "8a5229e4",
   "metadata": {},
   "source": [
    "# 🤖 SageMaker Autopilot – Run AutoML Job\n",
    "This notebook launches an Amazon SageMaker Autopilot job to automatically train and tune models."
   ]
  },
  {
   "cell_type": "markdown",
   "id": "25f0cde4",
   "metadata": {},
   "source": [
    "## 📦 Step 1: Set Your AWS Credentials"
   ]
  },
  {
   "cell_type": "code",
   "execution_count": null,
   "id": "ce79b5a3",
   "metadata": {},
   "outputs": [],
   "source": [
    "\n",
    "aws_access_key = 'YOUR_AWS_ACCESS_KEY_ID'\n",
    "aws_secret_key = 'YOUR_AWS_SECRET_ACCESS_KEY'\n",
    "region_name = 'us-east-1'  # or your preferred region\n"
   ]
  },
  {
   "cell_type": "code",
   "execution_count": null,
   "id": "5d065995",
   "metadata": {},
   "outputs": [],
   "source": [
    "!pip install boto3 sagemaker pandas --quiet"
   ]
  },
  {
   "cell_type": "code",
   "execution_count": null,
   "id": "c77467a6",
   "metadata": {},
   "outputs": [],
   "source": [
    "\n",
    "import boto3\n",
    "import sagemaker\n",
    "from sagemaker import AutoML\n",
    "from sagemaker.session import Session\n",
    "from sagemaker import get_execution_role\n",
    "import os\n",
    "\n",
    "# Set environment variables\n",
    "os.environ['AWS_ACCESS_KEY_ID'] = aws_access_key\n",
    "os.environ['AWS_SECRET_ACCESS_KEY'] = aws_secret_key\n",
    "\n",
    "session = sagemaker.Session()\n",
    "bucket = session.default_bucket()\n",
    "role = get_execution_role()\n",
    "region = session.boto_region_name\n"
   ]
  },
  {
   "cell_type": "markdown",
   "id": "b5e26c22",
   "metadata": {},
   "source": [
    "## 🚀 Step 2: Define Input Data and Launch AutoML Job"
   ]
  },
  {
   "cell_type": "code",
   "execution_count": null,
   "id": "94ec71c8",
   "metadata": {},
   "outputs": [],
   "source": [
    "\n",
    "from datetime import datetime\n",
    "\n",
    "# S3 path to the dataset (uploaded earlier)\n",
    "input_data = f\"s3://{bucket}/automl-churn/churn.csv\"\n",
    "\n",
    "# Unique job name\n",
    "timestamp = datetime.now().strftime(\"%Y-%m-%d-%H-%M-%S\")\n",
    "auto_ml_job_name = f\"churn-automl-{timestamp}\"\n",
    "\n",
    "automl = AutoML(role=role,\n",
    "                target_attribute_name='Churn',\n",
    "                output_path=f\"s3://{bucket}/automl-output/\",\n",
    "                max_candidates=10,\n",
    "                job_objective='F1',\n",
    "                problem_type='BinaryClassification')\n",
    "\n",
    "automl.fit(input_data=input_data, job_name=auto_ml_job_name, wait=False)\n",
    "print(f\"🚀 AutoML job `{auto_ml_job_name}` started. You can track its progress in the SageMaker console.\")\n"
   ]
  }
 ],
 "metadata": {},
 "nbformat": 4,
 "nbformat_minor": 5
}