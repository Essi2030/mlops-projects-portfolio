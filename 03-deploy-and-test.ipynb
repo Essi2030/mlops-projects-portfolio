{
 "cells": [
  {
   "cell_type": "markdown",
   "id": "081f19c2",
   "metadata": {},
   "source": [
    "# 🛠 Deploy Best AutoML Model & Test Endpoint\n",
    "This notebook deploys the best candidate from a completed SageMaker Autopilot job and runs test predictions."
   ]
  },
  {
   "cell_type": "markdown",
   "id": "a8c540e0",
   "metadata": {},
   "source": [
    "## 🔐 Step 1: Set AWS Credentials"
   ]
  },
  {
   "cell_type": "code",
   "execution_count": null,
   "id": "be9e234e",
   "metadata": {},
   "outputs": [],
   "source": [
    "\n",
    "aws_access_key = 'YOUR_AWS_ACCESS_KEY_ID'\n",
    "aws_secret_key = 'YOUR_AWS_SECRET_ACCESS_KEY'\n",
    "region_name = 'us-east-1'\n"
   ]
  },
  {
   "cell_type": "code",
   "execution_count": null,
   "id": "013a791c",
   "metadata": {},
   "outputs": [],
   "source": [
    "!pip install boto3 sagemaker pandas --quiet"
   ]
  },
  {
   "cell_type": "code",
   "execution_count": null,
   "id": "bc4bc0ec",
   "metadata": {},
   "outputs": [],
   "source": [
    "\n",
    "import boto3\n",
    "import sagemaker\n",
    "from sagemaker.automl.automl import AutoML\n",
    "from sagemaker.session import Session\n",
    "from sagemaker import get_execution_role\n",
    "import os\n",
    "import pandas as pd\n",
    "\n",
    "# Set environment credentials\n",
    "os.environ['AWS_ACCESS_KEY_ID'] = aws_access_key\n",
    "os.environ['AWS_SECRET_ACCESS_KEY'] = aws_secret_key\n",
    "\n",
    "session = sagemaker.Session()\n",
    "role = get_execution_role()\n"
   ]
  },
  {
   "cell_type": "markdown",
   "id": "a6df9a7c",
   "metadata": {},
   "source": [
    "## 🚀 Step 2: Attach to Completed AutoML Job"
   ]
  },
  {
   "cell_type": "code",
   "execution_count": null,
   "id": "7027dc9f",
   "metadata": {},
   "outputs": [],
   "source": [
    "\n",
    "# Replace with your actual AutoML job name\n",
    "auto_ml_job_name = 'churn-automl-YYYY-MM-DD-HH-MM-SS'  # <-- Replace this!\n",
    "\n",
    "automl = AutoML.attach(auto_ml_job_name=auto_ml_job_name)\n",
    "best_candidate = automl.describe_auto_ml_job()['BestCandidate']\n",
    "print(\"✅ Best candidate selected.\")\n"
   ]
  },
  {
   "cell_type": "markdown",
   "id": "4f960e1c",
   "metadata": {},
   "source": [
    "## 📦 Step 3: Deploy the Model"
   ]
  },
  {
   "cell_type": "code",
   "execution_count": null,
   "id": "51a19f89",
   "metadata": {},
   "outputs": [],
   "source": [
    "\n",
    "predictor = automl.deploy(initial_instance_count=1,\n",
    "                          instance_type=\"ml.m5.large\",\n",
    "                          candidate=best_candidate)\n",
    "\n",
    "print(f\"✅ Model deployed to endpoint: {predictor.endpoint_name}\")\n"
   ]
  },
  {
   "cell_type": "markdown",
   "id": "3871bf1a",
   "metadata": {},
   "source": [
    "## 🧪 Step 4: Test with Sample Data"
   ]
  },
  {
   "cell_type": "code",
   "execution_count": null,
   "id": "d87fe6c6",
   "metadata": {},
   "outputs": [],
   "source": [
    "\n",
    "# Load same dataset and drop target column\n",
    "df = pd.read_csv(\"churn.csv\")\n",
    "X_sample = df.drop(columns=[\"Churn\"]).iloc[:5]  # use first 5 rows\n",
    "\n",
    "predictions = predictor.predict(X_sample.to_dict(orient=\"records\"))\n",
    "print(\"📈 Predictions:\", predictions)\n"
   ]
  },
  {
   "cell_type": "markdown",
   "id": "583d44a0",
   "metadata": {},
   "source": [
    "## ✅ Cleanup (Optional)"
   ]
  },
  {
   "cell_type": "code",
   "execution_count": null,
   "id": "46ed2bc4",
   "metadata": {},
   "outputs": [],
   "source": [
    "\n",
    "# Delete the endpoint when done\n",
    "# predictor.delete_endpoint()\n"
   ]
  }
 ],
 "metadata": {},
 "nbformat": 4,
 "nbformat_minor": 5
}