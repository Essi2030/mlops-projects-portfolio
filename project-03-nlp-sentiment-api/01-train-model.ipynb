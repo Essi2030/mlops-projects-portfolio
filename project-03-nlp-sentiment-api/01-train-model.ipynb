{
 "cells": [
  {
   "cell_type": "markdown",
   "id": "1dcaf3da",
   "metadata": {},
   "source": [
    "# 🧠 Sentiment Model Training – BERT (HuggingFace Transformers)\n",
    "This notebook loads or fine-tunes a transformer model for sentiment classification using HuggingFace."
   ]
  },
  {
   "cell_type": "markdown",
   "id": "d69c288a",
   "metadata": {},
   "source": [
    "## 🔧 Step 1: Install and import required libraries"
   ]
  },
  {
   "cell_type": "code",
   "execution_count": null,
   "id": "bb8ce622",
   "metadata": {},
   "outputs": [],
   "source": [
    "!pip install transformers datasets scikit-learn --quiet"
   ]
  },
  {
   "cell_type": "code",
   "execution_count": null,
   "id": "2a77c2d4",
   "metadata": {},
   "outputs": [],
   "source": [
    "\n",
    "import pandas as pd\n",
    "import numpy as np\n",
    "from datasets import load_dataset\n",
    "from transformers import AutoTokenizer, AutoModelForSequenceClassification, TrainingArguments, Trainer\n",
    "from transformers import DataCollatorWithPadding\n",
    "from sklearn.metrics import accuracy_score, precision_recall_fscore_support\n",
    "import torch\n"
   ]
  },
  {
   "cell_type": "markdown",
   "id": "2cf9ba9a",
   "metadata": {},
   "source": [
    "## 📦 Step 2: Load Dataset"
   ]
  },
  {
   "cell_type": "code",
   "execution_count": null,
   "id": "5e2206b5",
   "metadata": {},
   "outputs": [],
   "source": [
    "\n",
    "# Load IMDB movie review dataset\n",
    "dataset = load_dataset(\"imdb\")\n",
    "dataset = dataset.shuffle(seed=42)\n",
    "dataset[\"train\"] = dataset[\"train\"].select(range(3000))  # keep it small for demo\n",
    "dataset[\"test\"] = dataset[\"test\"].select(range(1000))\n"
   ]
  },
  {
   "cell_type": "markdown",
   "id": "2e2271c5",
   "metadata": {},
   "source": [
    "## 🧼 Step 3: Tokenization"
   ]
  },
  {
   "cell_type": "code",
   "execution_count": null,
   "id": "3323ca23",
   "metadata": {},
   "outputs": [],
   "source": [
    "\n",
    "checkpoint = \"distilbert-base-uncased\"\n",
    "tokenizer = AutoTokenizer.from_pretrained(checkpoint)\n",
    "\n",
    "def tokenize_function(example):\n",
    "    return tokenizer(example[\"text\"], truncation=True)\n",
    "\n",
    "tokenized_datasets = dataset.map(tokenize_function, batched=True)\n"
   ]
  },
  {
   "cell_type": "markdown",
   "id": "40d90069",
   "metadata": {},
   "source": [
    "## 🧠 Step 4: Define Model and Trainer"
   ]
  },
  {
   "cell_type": "code",
   "execution_count": null,
   "id": "32d95e8a",
   "metadata": {},
   "outputs": [],
   "source": [
    "\n",
    "model = AutoModelForSequenceClassification.from_pretrained(checkpoint, num_labels=2)\n",
    "data_collator = DataCollatorWithPadding(tokenizer=tokenizer)\n",
    "\n",
    "def compute_metrics(eval_pred):\n",
    "    predictions, labels = eval_pred\n",
    "    preds = np.argmax(predictions, axis=1)\n",
    "    acc = accuracy_score(labels, preds)\n",
    "    precision, recall, f1, _ = precision_recall_fscore_support(labels, preds, average='binary')\n",
    "    return {\"accuracy\": acc, \"f1\": f1, \"precision\": precision, \"recall\": recall}\n"
   ]
  },
  {
   "cell_type": "code",
   "execution_count": null,
   "id": "5319bc73",
   "metadata": {},
   "outputs": [],
   "source": [
    "\n",
    "training_args = TrainingArguments(\n",
    "    output_dir=\"./model\",\n",
    "    evaluation_strategy=\"epoch\",\n",
    "    per_device_train_batch_size=8,\n",
    "    per_device_eval_batch_size=8,\n",
    "    num_train_epochs=2,\n",
    "    save_strategy=\"epoch\",\n",
    "    logging_dir=\"./logs\",\n",
    "    logging_steps=10,\n",
    ")\n",
    "\n",
    "trainer = Trainer(\n",
    "    model=model,\n",
    "    args=training_args,\n",
    "    train_dataset=tokenized_datasets[\"train\"],\n",
    "    eval_dataset=tokenized_datasets[\"test\"],\n",
    "    tokenizer=tokenizer,\n",
    "    data_collator=data_collator,\n",
    "    compute_metrics=compute_metrics,\n",
    ")\n",
    "\n",
    "trainer.train()\n"
   ]
  },
  {
   "cell_type": "markdown",
   "id": "6694b62d",
   "metadata": {},
   "source": [
    "## 💾 Step 5: Save Model"
   ]
  },
  {
   "cell_type": "code",
   "execution_count": null,
   "id": "92fe5474",
   "metadata": {},
   "outputs": [],
   "source": [
    "\n",
    "trainer.save_model(\"model/sentiment-bert\")\n",
    "tokenizer.save_pretrained(\"model/sentiment-bert\")\n",
    "print(\"✅ Model and tokenizer saved.\")\n"
   ]
  }
 ],
 "metadata": {},
 "nbformat": 4,
 "nbformat_minor": 5
}