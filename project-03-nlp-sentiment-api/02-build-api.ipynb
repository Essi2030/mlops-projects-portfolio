{
 "cells": [
  {
   "cell_type": "markdown",
   "id": "de96ea01",
   "metadata": {},
   "source": [
    "# ⚡ NLP Sentiment API – Build and Test with FastAPI\n",
    "This notebook creates a REST API for the trained sentiment model using FastAPI."
   ]
  },
  {
   "cell_type": "markdown",
   "id": "118f1618",
   "metadata": {},
   "source": [
    "## 🔧 Step 1: Install and import required libraries"
   ]
  },
  {
   "cell_type": "code",
   "execution_count": null,
   "id": "cc784c03",
   "metadata": {},
   "outputs": [],
   "source": [
    "!pip install fastapi[all] transformers uvicorn --quiet"
   ]
  },
  {
   "cell_type": "code",
   "execution_count": null,
   "id": "ce827ded",
   "metadata": {},
   "outputs": [],
   "source": [
    "\n",
    "from fastapi import FastAPI\n",
    "from pydantic import BaseModel\n",
    "from transformers import AutoTokenizer, AutoModelForSequenceClassification\n",
    "import torch\n",
    "import uvicorn\n"
   ]
  },
  {
   "cell_type": "markdown",
   "id": "29bcbb19",
   "metadata": {},
   "source": [
    "## 🧠 Step 2: Load model and tokenizer"
   ]
  },
  {
   "cell_type": "code",
   "execution_count": null,
   "id": "9d8072e3",
   "metadata": {},
   "outputs": [],
   "source": [
    "\n",
    "model_path = \"model/sentiment-bert\"  # path where model was saved\n",
    "\n",
    "tokenizer = AutoTokenizer.from_pretrained(model_path)\n",
    "model = AutoModelForSequenceClassification.from_pretrained(model_path)\n",
    "model.eval()\n",
    "\n",
    "labels = [\"negative\", \"positive\"]\n"
   ]
  },
  {
   "cell_type": "markdown",
   "id": "5ddfcf96",
   "metadata": {},
   "source": [
    "## 🌐 Step 3: Define FastAPI app"
   ]
  },
  {
   "cell_type": "code",
   "execution_count": null,
   "id": "61001411",
   "metadata": {},
   "outputs": [],
   "source": [
    "\n",
    "app = FastAPI()\n",
    "\n",
    "class InputText(BaseModel):\n",
    "    text: str\n",
    "\n",
    "@app.post(\"/predict\")\n",
    "def predict_sentiment(input_text: InputText):\n",
    "    inputs = tokenizer(input_text.text, return_tensors=\"pt\", truncation=True)\n",
    "    with torch.no_grad():\n",
    "        outputs = model(**inputs)\n",
    "        logits = outputs.logits\n",
    "        probs = torch.softmax(logits, dim=1).squeeze()\n",
    "        confidence, prediction = torch.max(probs, 0)\n",
    "    return {\n",
    "        \"label\": labels[prediction],\n",
    "        \"confidence\": round(confidence.item(), 3)\n",
    "    }\n"
   ]
  },
  {
   "cell_type": "markdown",
   "id": "017538ed",
   "metadata": {},
   "source": [
    "## 🚀 Step 4: Run the API (only works in terminal)"
   ]
  },
  {
   "cell_type": "code",
   "execution_count": null,
   "id": "5d7b58e8",
   "metadata": {},
   "outputs": [],
   "source": [
    "\n",
    "# Uncomment and run this in terminal or script, not in notebook\n",
    "# uvicorn.run(app, host=\"0.0.0.0\", port=8000)\n"
   ]
  },
  {
   "cell_type": "markdown",
   "id": "62fe1466",
   "metadata": {},
   "source": [
    "## 🧪 Example curl test (in terminal)\n",
    "```bash\n",
    "curl -X POST http://localhost:8000/predict -H \"Content-Type: application/json\" \\\n",
    "     -d '{\"text\": \"This is absolutely amazing!\"}'\n",
    "```"
   ]
  }
 ],
 "metadata": {},
 "nbformat": 4,
 "nbformat_minor": 5
}