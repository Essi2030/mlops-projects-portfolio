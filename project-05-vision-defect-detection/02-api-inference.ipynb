{
 "cells": [
  {
   "cell_type": "markdown",
   "id": "bfdffe0e",
   "metadata": {},
   "source": [
    "# 🚀 YOLOv8 Inference API – FastAPI Server\n",
    "This notebook builds a FastAPI app to serve the YOLOv8 defect detection model."
   ]
  },
  {
   "cell_type": "markdown",
   "id": "e87511a5",
   "metadata": {},
   "source": [
    "## 📦 Step 1: Install dependencies"
   ]
  },
  {
   "cell_type": "code",
   "execution_count": null,
   "id": "07f86c73",
   "metadata": {},
   "outputs": [],
   "source": [
    "!pip install ultralytics fastapi uvicorn python-multipart opencv-python aiofiles --quiet"
   ]
  },
  {
   "cell_type": "markdown",
   "id": "4b8ffacc",
   "metadata": {},
   "source": [
    "## 🧠 Step 2: Load YOLOv8 model and test locally"
   ]
  },
  {
   "cell_type": "code",
   "execution_count": null,
   "id": "25074263",
   "metadata": {},
   "outputs": [],
   "source": [
    "\n",
    "from ultralytics import YOLO\n",
    "import cv2\n",
    "import numpy as np\n",
    "from PIL import Image\n",
    "import io\n",
    "\n",
    "# Load trained model\n",
    "model = YOLO('runs/detect/yolov8-defect/weights/best.pt')  # adjust path if needed\n"
   ]
  },
  {
   "cell_type": "markdown",
   "id": "e957fe2e",
   "metadata": {},
   "source": [
    "## 🌐 Step 3: Define FastAPI app for image upload and inference"
   ]
  },
  {
   "cell_type": "code",
   "execution_count": null,
   "id": "86926d28",
   "metadata": {},
   "outputs": [],
   "source": [
    "\n",
    "from fastapi import FastAPI, File, UploadFile\n",
    "from fastapi.responses import JSONResponse\n",
    "import shutil\n",
    "import os\n",
    "\n",
    "app = FastAPI()\n",
    "\n",
    "@app.post(\"/predict\")\n",
    "async def predict_image(file: UploadFile = File(...)):\n",
    "    contents = await file.read()\n",
    "    nparr = np.frombuffer(contents, np.uint8)\n",
    "    img = cv2.imdecode(nparr, cv2.IMREAD_COLOR)\n",
    "\n",
    "    results = model(img)\n",
    "    detections = results[0].boxes\n",
    "\n",
    "    output = []\n",
    "    if detections is not None:\n",
    "        for box in detections:\n",
    "            xyxy = box.xyxy.cpu().numpy()[0].tolist()\n",
    "            cls_id = int(box.cls.cpu().numpy()[0])\n",
    "            conf = float(box.conf.cpu().numpy()[0])\n",
    "            label = model.names[cls_id]\n",
    "            output.append({\n",
    "                \"class\": label,\n",
    "                \"confidence\": round(conf, 3),\n",
    "                \"bbox\": [round(x, 2) for x in xyxy]\n",
    "            })\n",
    "\n",
    "    return JSONResponse(content={\"detections\": output})\n"
   ]
  },
  {
   "cell_type": "markdown",
   "id": "11d7d678",
   "metadata": {},
   "source": [
    "## ▶️ Step 4: Run the API locally"
   ]
  },
  {
   "cell_type": "code",
   "execution_count": null,
   "id": "39d2bb2a",
   "metadata": {},
   "outputs": [],
   "source": [
    "\n",
    "# Run in terminal or script, not inside notebook\n",
    "# uvicorn api.main:app --host 0.0.0.0 --port 8000\n"
   ]
  }
 ],
 "metadata": {},
 "nbformat": 4,
 "nbformat_minor": 5
}