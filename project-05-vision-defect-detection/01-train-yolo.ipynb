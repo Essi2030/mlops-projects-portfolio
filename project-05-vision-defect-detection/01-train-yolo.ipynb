{
 "cells": [
  {
   "cell_type": "markdown",
   "id": "92baf30d",
   "metadata": {},
   "source": [
    "# 🧠 Train YOLOv8 for Vision-Based Defect Detection\n",
    "This notebook sets up the Ultralytics YOLOv8 model and trains it on a custom dataset."
   ]
  },
  {
   "cell_type": "markdown",
   "id": "7ca1ba35",
   "metadata": {},
   "source": [
    "## 📦 Step 1: Install dependencies and YOLOv8"
   ]
  },
  {
   "cell_type": "code",
   "execution_count": null,
   "id": "37989a6a",
   "metadata": {},
   "outputs": [],
   "source": [
    "!pip install ultralytics --quiet"
   ]
  },
  {
   "cell_type": "markdown",
   "id": "cc9a3a78",
   "metadata": {},
   "source": [
    "## 📂 Step 2: Prepare Dataset Structure\n",
    "Make sure your dataset follows this structure:\n",
    "\n",
    "```\n",
    "data/\n",
    "├── images/\n",
    "│   ├── train/\n",
    "│   └── val/\n",
    "├── labels/\n",
    "│   ├── train/\n",
    "│   └── val/\n",
    "└── defect.yaml\n",
    "```\n",
    "- `defect.yaml` should define paths and class names"
   ]
  },
  {
   "cell_type": "markdown",
   "id": "d8825494",
   "metadata": {},
   "source": [
    "## ⚙️ Step 3: Train the YOLOv8 model"
   ]
  },
  {
   "cell_type": "code",
   "execution_count": null,
   "id": "e74d35c8",
   "metadata": {},
   "outputs": [],
   "source": [
    "\n",
    "from ultralytics import YOLO\n",
    "\n",
    "# Load YOLOv8n (nano) or any variant like yolov8s/yolov8m\n",
    "model = YOLO('yolov8n.pt')\n",
    "\n",
    "# Train on custom dataset\n",
    "model.train(\n",
    "    data='data/defect.yaml',\n",
    "    epochs=30,\n",
    "    imgsz=640,\n",
    "    batch=16,\n",
    "    name='yolov8-defect'\n",
    ")\n"
   ]
  },
  {
   "cell_type": "markdown",
   "id": "2866e9fb",
   "metadata": {},
   "source": [
    "## ✅ Step 4: Evaluate and Export"
   ]
  },
  {
   "cell_type": "code",
   "execution_count": null,
   "id": "0f362973",
   "metadata": {},
   "outputs": [],
   "source": [
    "\n",
    "# Evaluate\n",
    "metrics = model.val()\n",
    "\n",
    "# Export best model\n",
    "model_path = model.export(format='onnx')  # can also do 'torchscript' or 'engine'\n",
    "\n",
    "print(f\"✅ Model exported to: {model_path}\")\n"
   ]
  }
 ],
 "metadata": {},
 "nbformat": 4,
 "nbformat_minor": 5
}